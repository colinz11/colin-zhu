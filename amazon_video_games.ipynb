{
 "cells": [
  {
   "cell_type": "markdown",
   "metadata": {},
   "source": [
    "# Sentiment Analysis: Amazon Video Game Reviews\n",
    "\n",
    "We'll be applying this to a dataset of 210,000 Amazon Video Game reviews.\n",
    "\n",
    "\n",
    "\n",
    "Just as we did before, we'll use the text of the review to create our _features_, and we'll have 3 possible labels:\n",
    "- `positive` for all reviews of _4_ and _5_ stars\n",
    "- `neutral` for all reviews of _3_ stars\n",
    "- `negative` for all reviews of _2_ stars or below.\n",
    "\n",
    "The dataset will be at `datasets/video_games_amazon_cleaned.json`. This dataset was taken from [UCSD](http://jmcauley.ucsd.edu/data/amazon/) and was modified to remove fields we don't want/need.\n",
    "\n",
    "__Resources:__\n",
    "- [Scikit-learn cheat sheet](http://scikit-learn.org/stable/tutorial/machine_learning_map/index.html)\n",
    "- [Wiki: Tf-idf](https://en.wikipedia.org/wiki/Tf%E2%80%93idf)\n",
    "- [Wiki: Bag of Words](https://en.wikipedia.org/wiki/Bag-of-words_model)"
   ]
  },
  {
   "cell_type": "code",
   "execution_count": 1,
   "metadata": {},
   "outputs": [
    {
     "name": "stderr",
     "output_type": "stream",
     "text": [
      "/Library/Frameworks/Python.framework/Versions/3.6/lib/python3.6/importlib/_bootstrap.py:219: RuntimeWarning: numpy.dtype size changed, may indicate binary incompatibility. Expected 96, got 88\n",
      "  return f(*args, **kwds)\n",
      "/Library/Frameworks/Python.framework/Versions/3.6/lib/python3.6/importlib/_bootstrap.py:219: RuntimeWarning: numpy.dtype size changed, may indicate binary incompatibility. Expected 96, got 88\n",
      "  return f(*args, **kwds)\n"
     ]
    },
    {
     "ename": "ModuleNotFoundError",
     "evalue": "No module named 'sklearn'",
     "output_type": "error",
     "traceback": [
      "\u001b[0;31m---------------------------------------------------------------------------\u001b[0m",
      "\u001b[0;31mModuleNotFoundError\u001b[0m                       Traceback (most recent call last)",
      "\u001b[0;32m<ipython-input-1-c1ab471d2c45>\u001b[0m in \u001b[0;36m<module>\u001b[0;34m()\u001b[0m\n\u001b[1;32m      8\u001b[0m \u001b[0;32mfrom\u001b[0m \u001b[0mcollections\u001b[0m \u001b[0;32mimport\u001b[0m \u001b[0mCounter\u001b[0m\u001b[0;34m\u001b[0m\u001b[0m\n\u001b[1;32m      9\u001b[0m \u001b[0;34m\u001b[0m\u001b[0m\n\u001b[0;32m---> 10\u001b[0;31m \u001b[0;32mimport\u001b[0m \u001b[0msklearn\u001b[0m\u001b[0;34m\u001b[0m\u001b[0m\n\u001b[0m\u001b[1;32m     11\u001b[0m \u001b[0;34m\u001b[0m\u001b[0m\n\u001b[1;32m     12\u001b[0m \u001b[0;31m# DictVectorizer will turn a list of dictionaries (BOWs in this case)\u001b[0m\u001b[0;34m\u001b[0m\u001b[0;34m\u001b[0m\u001b[0m\n",
      "\u001b[0;31mModuleNotFoundError\u001b[0m: No module named 'sklearn'"
     ]
    }
   ],
   "source": [
    "import numpy as np\n",
    "import pandas as pd\n",
    "import matplotlib.pyplot as plt\n",
    "import seaborn as sns\n",
    "sns.set()\n",
    "\n",
    "# This built-in will help us out for Counting words\n",
    "from collections import Counter\n",
    "\n",
    "import sklearn\n",
    "\n",
    "# DictVectorizer will turn a list of dictionaries (BOWs in this case)\n",
    "# into a Matrix.\n",
    "from sklearn.feature_extraction import DictVectorizer\n",
    "\n",
    "# To create test/train splits\n",
    "from sklearn.model_selection import train_test_split\n",
    "\n",
    "# Multinomial Naive Bayes\n",
    "from sklearn.naive_bayes import MultinomialNB\n",
    "\n",
    "# Neural Networks\n",
    "from sklearn.neural_network import MLPClassifier\n",
    "\n",
    "# Random Forests\n",
    "from sklearn.ensemble import RandomForestClassifier\n",
    "\n",
    "# Confusion matrix\n",
    "from sklearn.metrics import confusion_matrix\n",
    "\n",
    "from sklearn.preprocessing import StandardScaler\n",
    "from sklearn.linear_model import SGDClassifier\n",
    "\n",
    "from sklearn.feature_extraction.text import TfidfTransformer"
   ]
  },
  {
   "cell_type": "code",
   "execution_count": 2,
   "metadata": {},
   "outputs": [],
   "source": [
    "# This is to stop the barrage of warning messages we'll get later\n",
    "import warnings; warnings.simplefilter('ignore')"
   ]
  },
  {
   "cell_type": "code",
   "execution_count": 3,
   "metadata": {},
   "outputs": [],
   "source": [
    "# Create a seed to use later.\n",
    "seed = 42"
   ]
  },
  {
   "cell_type": "code",
   "execution_count": 4,
   "metadata": {},
   "outputs": [
    {
     "data": {
      "text/html": [
       "<div>\n",
       "<style scoped>\n",
       "    .dataframe tbody tr th:only-of-type {\n",
       "        vertical-align: middle;\n",
       "    }\n",
       "\n",
       "    .dataframe tbody tr th {\n",
       "        vertical-align: top;\n",
       "    }\n",
       "\n",
       "    .dataframe thead th {\n",
       "        text-align: right;\n",
       "    }\n",
       "</style>\n",
       "<table border=\"1\" class=\"dataframe\">\n",
       "  <thead>\n",
       "    <tr style=\"text-align: right;\">\n",
       "      <th></th>\n",
       "      <th>overall</th>\n",
       "      <th>reviewText</th>\n",
       "    </tr>\n",
       "  </thead>\n",
       "  <tbody>\n",
       "    <tr>\n",
       "      <th>0</th>\n",
       "      <td>1</td>\n",
       "      <td>Installing the game was a struggle (because of...</td>\n",
       "    </tr>\n",
       "    <tr>\n",
       "      <th>1</th>\n",
       "      <td>4</td>\n",
       "      <td>If you like rally cars get this game you will ...</td>\n",
       "    </tr>\n",
       "    <tr>\n",
       "      <th>2</th>\n",
       "      <td>1</td>\n",
       "      <td>1st shipment received a book instead of the ga...</td>\n",
       "    </tr>\n",
       "    <tr>\n",
       "      <th>3</th>\n",
       "      <td>3</td>\n",
       "      <td>I got this version instead of the PS3 version,...</td>\n",
       "    </tr>\n",
       "    <tr>\n",
       "      <th>4</th>\n",
       "      <td>4</td>\n",
       "      <td>I had Dirt 2 on Xbox 360 and it was an okay ga...</td>\n",
       "    </tr>\n",
       "  </tbody>\n",
       "</table>\n",
       "</div>"
      ],
      "text/plain": [
       "   overall                                         reviewText\n",
       "0        1  Installing the game was a struggle (because of...\n",
       "1        4  If you like rally cars get this game you will ...\n",
       "2        1  1st shipment received a book instead of the ga...\n",
       "3        3  I got this version instead of the PS3 version,...\n",
       "4        4  I had Dirt 2 on Xbox 360 and it was an okay ga..."
      ]
     },
     "execution_count": 4,
     "metadata": {},
     "output_type": "execute_result"
    }
   ],
   "source": [
    "# First import your dataset as usual\n",
    "dataset = \"datasets/video_games_amazon_cleaned.json\"\n",
    "\n",
    "# NOTE: We are using read_json() here instead. Recal that JSON format\n",
    "# looks like lines of Python dictionaries.\n",
    "# The lines=True option is saying \"treat each line as it's own record\"\n",
    "df = pd.read_json(dataset, lines=True)\n",
    "\n",
    "df.head()"
   ]
  },
  {
   "cell_type": "code",
   "execution_count": 5,
   "metadata": {},
   "outputs": [
    {
     "data": {
      "text/html": [
       "<div>\n",
       "<style scoped>\n",
       "    .dataframe tbody tr th:only-of-type {\n",
       "        vertical-align: middle;\n",
       "    }\n",
       "\n",
       "    .dataframe tbody tr th {\n",
       "        vertical-align: top;\n",
       "    }\n",
       "\n",
       "    .dataframe thead th {\n",
       "        text-align: right;\n",
       "    }\n",
       "</style>\n",
       "<table border=\"1\" class=\"dataframe\">\n",
       "  <thead>\n",
       "    <tr style=\"text-align: right;\">\n",
       "      <th></th>\n",
       "      <th>stars</th>\n",
       "      <th>text</th>\n",
       "    </tr>\n",
       "  </thead>\n",
       "  <tbody>\n",
       "    <tr>\n",
       "      <th>0</th>\n",
       "      <td>1</td>\n",
       "      <td>Installing the game was a struggle (because of...</td>\n",
       "    </tr>\n",
       "    <tr>\n",
       "      <th>1</th>\n",
       "      <td>4</td>\n",
       "      <td>If you like rally cars get this game you will ...</td>\n",
       "    </tr>\n",
       "    <tr>\n",
       "      <th>2</th>\n",
       "      <td>1</td>\n",
       "      <td>1st shipment received a book instead of the ga...</td>\n",
       "    </tr>\n",
       "    <tr>\n",
       "      <th>3</th>\n",
       "      <td>3</td>\n",
       "      <td>I got this version instead of the PS3 version,...</td>\n",
       "    </tr>\n",
       "    <tr>\n",
       "      <th>4</th>\n",
       "      <td>4</td>\n",
       "      <td>I had Dirt 2 on Xbox 360 and it was an okay ga...</td>\n",
       "    </tr>\n",
       "  </tbody>\n",
       "</table>\n",
       "</div>"
      ],
      "text/plain": [
       "   stars                                               text\n",
       "0      1  Installing the game was a struggle (because of...\n",
       "1      4  If you like rally cars get this game you will ...\n",
       "2      1  1st shipment received a book instead of the ga...\n",
       "3      3  I got this version instead of the PS3 version,...\n",
       "4      4  I had Dirt 2 on Xbox 360 and it was an okay ga..."
      ]
     },
     "execution_count": 5,
     "metadata": {},
     "output_type": "execute_result"
    }
   ],
   "source": [
    "# Let's rename the columns to \"text\" and \"stars\" like we did\n",
    "# in the previous Amazon dataset\n",
    "\n",
    "# Let's create a dict where index is \"current column name\" and the\n",
    "# value is \"desired column name\"\n",
    "mapping = {\"overall\": \"stars\", \"reviewText\": \"text\"}\n",
    "\n",
    "# Documentation can be found at\n",
    "# https://pandas.pydata.org/pandas-docs/stable/generated/pandas.DataFrame.rename.html\n",
    "df.rename(mapper=mapping, axis=1, inplace=True)\n",
    "\n",
    "# Now let's view the first 5 again\n",
    "df.head()"
   ]
  },
  {
   "cell_type": "code",
   "execution_count": 6,
   "metadata": {},
   "outputs": [
    {
     "data": {
      "text/html": [
       "<div>\n",
       "<style scoped>\n",
       "    .dataframe tbody tr th:only-of-type {\n",
       "        vertical-align: middle;\n",
       "    }\n",
       "\n",
       "    .dataframe tbody tr th {\n",
       "        vertical-align: top;\n",
       "    }\n",
       "\n",
       "    .dataframe thead th {\n",
       "        text-align: right;\n",
       "    }\n",
       "</style>\n",
       "<table border=\"1\" class=\"dataframe\">\n",
       "  <thead>\n",
       "    <tr style=\"text-align: right;\">\n",
       "      <th></th>\n",
       "      <th>stars</th>\n",
       "    </tr>\n",
       "  </thead>\n",
       "  <tbody>\n",
       "    <tr>\n",
       "      <th>count</th>\n",
       "      <td>231780.000000</td>\n",
       "    </tr>\n",
       "    <tr>\n",
       "      <th>mean</th>\n",
       "      <td>4.086397</td>\n",
       "    </tr>\n",
       "    <tr>\n",
       "      <th>std</th>\n",
       "      <td>1.202330</td>\n",
       "    </tr>\n",
       "    <tr>\n",
       "      <th>min</th>\n",
       "      <td>1.000000</td>\n",
       "    </tr>\n",
       "    <tr>\n",
       "      <th>25%</th>\n",
       "      <td>4.000000</td>\n",
       "    </tr>\n",
       "    <tr>\n",
       "      <th>50%</th>\n",
       "      <td>5.000000</td>\n",
       "    </tr>\n",
       "    <tr>\n",
       "      <th>75%</th>\n",
       "      <td>5.000000</td>\n",
       "    </tr>\n",
       "    <tr>\n",
       "      <th>max</th>\n",
       "      <td>5.000000</td>\n",
       "    </tr>\n",
       "  </tbody>\n",
       "</table>\n",
       "</div>"
      ],
      "text/plain": [
       "               stars\n",
       "count  231780.000000\n",
       "mean        4.086397\n",
       "std         1.202330\n",
       "min         1.000000\n",
       "25%         4.000000\n",
       "50%         5.000000\n",
       "75%         5.000000\n",
       "max         5.000000"
      ]
     },
     "execution_count": 6,
     "metadata": {},
     "output_type": "execute_result"
    }
   ],
   "source": [
    "df.describe()"
   ]
  },
  {
   "cell_type": "markdown",
   "metadata": {},
   "source": [
    "Just like in the previous Amazon dataset, we're seeing the data skewed towards _4_'s and _5_'s\n",
    "\n",
    "Let's get some visualizations going to help us understand what's going on. again. Below, we're going to group our DataFrame rows by the column we care about, `stars`. \n",
    "\n",
    "__Note:__ we're going to get rid of this column soon since we care about `neutral` vs `negative` vs `positive`, not the actual number of stars someone gave."
   ]
  },
  {
   "cell_type": "code",
   "execution_count": 7,
   "metadata": {},
   "outputs": [
    {
     "data": {
      "text/html": [
       "<div>\n",
       "<style scoped>\n",
       "    .dataframe tbody tr th:only-of-type {\n",
       "        vertical-align: middle;\n",
       "    }\n",
       "\n",
       "    .dataframe tbody tr th {\n",
       "        vertical-align: top;\n",
       "    }\n",
       "\n",
       "    .dataframe thead th {\n",
       "        text-align: right;\n",
       "    }\n",
       "</style>\n",
       "<table border=\"1\" class=\"dataframe\">\n",
       "  <thead>\n",
       "    <tr style=\"text-align: right;\">\n",
       "      <th></th>\n",
       "      <th>text</th>\n",
       "    </tr>\n",
       "    <tr>\n",
       "      <th>stars</th>\n",
       "      <th></th>\n",
       "    </tr>\n",
       "  </thead>\n",
       "  <tbody>\n",
       "    <tr>\n",
       "      <th>1</th>\n",
       "      <td>14853</td>\n",
       "    </tr>\n",
       "    <tr>\n",
       "      <th>2</th>\n",
       "      <td>13663</td>\n",
       "    </tr>\n",
       "    <tr>\n",
       "      <th>3</th>\n",
       "      <td>28275</td>\n",
       "    </tr>\n",
       "    <tr>\n",
       "      <th>4</th>\n",
       "      <td>54804</td>\n",
       "    </tr>\n",
       "    <tr>\n",
       "      <th>5</th>\n",
       "      <td>120185</td>\n",
       "    </tr>\n",
       "  </tbody>\n",
       "</table>\n",
       "</div>"
      ],
      "text/plain": [
       "         text\n",
       "stars        \n",
       "1       14853\n",
       "2       13663\n",
       "3       28275\n",
       "4       54804\n",
       "5      120185"
      ]
     },
     "execution_count": 7,
     "metadata": {},
     "output_type": "execute_result"
    }
   ],
   "source": [
    "# Let's get the counts of our columns after we group them by star count\n",
    "df_star_counts = df.groupby(\"stars\").count()\n",
    "df_star_counts.head()"
   ]
  },
  {
   "cell_type": "markdown",
   "metadata": {},
   "source": [
    "The text field is just counting how many records we have with that particular number of starts. Again, in this dataset we also have far more _4_'s and _5_'s than anything else."
   ]
  },
  {
   "cell_type": "code",
   "execution_count": 8,
   "metadata": {},
   "outputs": [
    {
     "data": {
      "text/plain": [
       "<matplotlib.axes._subplots.AxesSubplot at 0x120e45b38>"
      ]
     },
     "execution_count": 8,
     "metadata": {},
     "output_type": "execute_result"
    },
    {
     "data": {
      "image/png": "[encoded data removed]",
      "text/plain": [
       "<Figure size 432x288 with 1 Axes>"
      ]
     },
     "metadata": {},
     "output_type": "display_data"
    }
   ],
   "source": [
    "# First, let's just focus on the \"text\" column and get the values out.\n",
    "# The list we get here will be the number of examples we have with 1-star,\n",
    "# with 2-star, and so on\n",
    "counts = df_star_counts[\"text\"].values\n",
    "\n",
    "# We'll make an array with the star counts\n",
    "# So two 1's and four 2's would be: [1, 1, 2, 2, 2, 2]\n",
    "stars = []\n",
    "for idx, count in enumerate(counts):\n",
    "    star_num = idx + 1\n",
    "    stars += [star_num] * count \n",
    "\n",
    "# Here we can make a histogram of the stars. Looks like almost all the ratings are 4's or 5's\n",
    "sns.distplot(stars, kde=False, rug=True)"
   ]
  },
  {
   "cell_type": "code",
   "execution_count": 9,
   "metadata": {},
   "outputs": [
    {
     "name": "stdout",
     "output_type": "stream",
     "text": [
      "75.50%\n"
     ]
    }
   ],
   "source": [
    "# Let's count the total number of examples we have\n",
    "n_samples = sum(counts)\n",
    "\n",
    "# Now let's count only the \"positive\" examples, meaning 4's and 5's\n",
    "n_positive = sum(counts[3:])\n",
    "\n",
    "# Compute the ratio of \"positive\" examples to everything else.\n",
    "positive_ratio = n_positive / n_samples\n",
    "print(\"{:.2f}%\".format(positive_ratio * 100))"
   ]
  },
  {
   "cell_type": "markdown",
   "metadata": {},
   "source": [
    "This is a much nicer dataset than the first _amazon_ dataset we used because we would only get around 75% test accuracy if all we did was predict `positive`.\n",
    "\n",
    "## Our Task\n",
    "Again, we'll use the [bag of words](https://en.wikipedia.org/wiki/Bag-of-words_model) model to predict `positive`, `neutral` or `negative`.\n",
    "\n",
    "Afterwards, we'll improve our model by using [Term-frequency-Inverse-Document-Frequency](https://en.wikipedia.org/wiki/Tf%E2%80%93idf). You will do this on your own using `TfidfTransformer`.\n",
    "\n",
    "Important things to understand about tf-idf:\n",
    "- tf-idf is a measure per-word per-document (just like the counts are per-word per-document)\n",
    "- tf-idf increases each time a word is used in a document\n",
    "- tf-idf inversely weighs that same word if the entire dataset uses that word frequently\n",
    "- __Intuition__: I really care about a word `w` if `w` is used frequently in my document but not frequently in my dataset.\n",
    "\n",
    "_Document_ here means each example of text."
   ]
  },
  {
   "cell_type": "code",
   "execution_count": 10,
   "metadata": {},
   "outputs": [],
   "source": [
    "# We need to preprocess our data. Let's build our counts of words.\n",
    "# TODO: Implement this function, you can copy it from previous assignment.\n",
    "def bag_of_words(text):\n",
    "    \"\"\"\n",
    "    TODO: \n",
    "    1. Lowercase everything in the text\n",
    "    2. Split up the text into words, and make a list called \"words\" that holds all the words\n",
    "    3. Make sure all the words are lower-case and that you account for punctuation.\n",
    "    Ex: \"awesome!\" is not one \"word\", it's really \"awesome\" and \"!\".\n",
    "    4. Finally, return Counter(words), which will be a dictionary with counts of the occurence\n",
    "    of each word\n",
    "    \"\"\"\n",
    "    punctuation = [\".\", \",\", \"(\", \")\", \"'\", \":\", \";\", '\"', \"\\\\\", \"!\", \"?\", \"'\", \"-\"] # HINT: filter these out\n",
    "    for punc in punctuation:\n",
    "        if punc == \"!\":\n",
    "            text = text.replace(punc, \" ! \")\n",
    "        else:\n",
    "            text = text.replace(punc, \"\")\n",
    "    lowercase = text.lower()\n",
    "    words = lowercase.split(\" \")\n",
    "    \n",
    "    return Counter(words)\n"
   ]
  },
  {
   "cell_type": "code",
   "execution_count": 11,
   "metadata": {},
   "outputs": [
    {
     "name": "stdout",
     "output_type": "stream",
     "text": [
      "CPU times: user 11.8 s, sys: 661 ms, total: 12.4 s\n",
      "Wall time: 12.4 s\n"
     ]
    }
   ],
   "source": [
    "%%time\n",
    "text_vals = df[\"text\"].values\n",
    "\n",
    "# Apply the bag_of_words to the functions and store those in a list called bows.\n",
    "bows = []\n",
    "for text in text_vals:\n",
    "    bow = bag_of_words(text)\n",
    "    bows.append(bow)"
   ]
  },
  {
   "cell_type": "code",
   "execution_count": 12,
   "metadata": {},
   "outputs": [],
   "source": [
    "# So, now we have the bag of words for ALL text in our dataset. Let's count up occurrences\n",
    "# for each word in the dataset. Later, we'll filter out the infrequence words we don't want.\n",
    "word_occurrences = Counter()\n",
    "\n",
    "for bow in bows:\n",
    "    word_occurrences.update(bow)"
   ]
  },
  {
   "cell_type": "code",
   "execution_count": 13,
   "metadata": {},
   "outputs": [],
   "source": [
    "# Create the vector y, which has our labels\n",
    "y_stars = df[\"stars\"].values\n",
    "y = []\n",
    "\n",
    "for stars in y_stars:\n",
    "    if stars >= 4:\n",
    "        y.append(\"positive\")\n",
    "    elif stars == 3:\n",
    "        y.append(\"neutral\")\n",
    "    else:\n",
    "        y.append(\"negative\")\n",
    "\n",
    "y = np.array(y)"
   ]
  },
  {
   "cell_type": "code",
   "execution_count": 14,
   "metadata": {},
   "outputs": [],
   "source": [
    "# We'll make a helper function that accepts min_occurence and stop_words\n",
    "# and produces a new vocabulary\n",
    "def create_vocab(min_occurrence, stop_words):\n",
    "    # Now, let's filter out the words that have < 30 occurences\n",
    "    vocab = set()\n",
    "    removed_vocab = set()\n",
    "\n",
    "    for word, count in word_occurrences.items():\n",
    "        if count >= min_occurrence and word not in stop_words:\n",
    "            vocab.add(word)\n",
    "        else:\n",
    "            removed_vocab.add(word)\n",
    "            \n",
    "    return vocab, removed_vocab"
   ]
  },
  {
   "cell_type": "code",
   "execution_count": 15,
   "metadata": {},
   "outputs": [],
   "source": [
    "# Now, we create a bag_of_words_using_vocab function that does the same thing as\n",
    "# bag_of_words above except we remove any words that are not in the vocab set\n",
    "def bag_of_words_using_vocab(text, vocabulary=set()):\n",
    "    bow = bag_of_words(text)\n",
    "    words = list(bow.keys())\n",
    "    for word in words:\n",
    "        if word not in vocabulary:\n",
    "            bow.pop(word)\n",
    "    \n",
    "    return bow"
   ]
  },
  {
   "cell_type": "code",
   "execution_count": 16,
   "metadata": {},
   "outputs": [],
   "source": [
    "# Here we'll create a helper function to take care of making new data splits\n",
    "def use_new_vocab(vocabulary):\n",
    "    new_bows = []\n",
    "\n",
    "    for text in text_vals:\n",
    "        # Use bag_of_words_using_vocab with the vocabulary\n",
    "        new_bow = bag_of_words_using_vocab(text, vocabulary=vocabulary)\n",
    "        new_bows.append(new_bow)\n",
    "    \n",
    "    # Now, creater vectors from these dictionaries\n",
    "    X = DictVectorizer().fit_transform(new_bows)\n",
    "    \n",
    "    # Create test/train splits\n",
    "    train_X, test_X, train_y, test_y = train_test_split(X, y,\n",
    "                                                    test_size=0.3,\n",
    "                                                    random_state=seed)\n",
    "    return (train_X, test_X, train_y, test_y)"
   ]
  },
  {
   "cell_type": "markdown",
   "metadata": {},
   "source": [
    "## TODO: Train Estimators\n",
    "\n",
    "Use `create_vocab()` and `use_new_vocab` to create `train_X, test_X, train_y, test_y`, which are the training and test sets generated from the updated vocabulary words. Do __at least__ 3 trials here.\n",
    "\n",
    "Apply these 2 algorithms:\n",
    "- [MultinomialNB](http://scikit-learn.org/stable/modules/generated/sklearn.naive_bayes.MultinomialNB.html)\n",
    "- [Random Forest](http://scikit-learn.org/stable/modules/generated/sklearn.ensemble.RandomForestClassifier.html)\n",
    "\n",
    "__NOTE:__ Use cross-validation only for models that don't take a long time to train. If you're training models for > 5 mins, tweak things around so you aren't doing that. Remember, we're trying to beat 75% accuracy on this dataset."
   ]
  },
  {
   "cell_type": "code",
   "execution_count": 17,
   "metadata": {},
   "outputs": [
    {
     "name": "stdout",
     "output_type": "stream",
     "text": [
      "12537\n",
      "595309\n"
     ]
    },
    {
     "ename": "NameError",
     "evalue": "name 'DictVectorizer' is not defined",
     "output_type": "error",
     "traceback": [
      "\u001b[0;31m---------------------------------------------------------------------------\u001b[0m",
      "\u001b[0;31mNameError\u001b[0m                                 Traceback (most recent call last)",
      "\u001b[0;32m<timed exec>\u001b[0m in \u001b[0;36m<module>\u001b[0;34m()\u001b[0m\n",
      "\u001b[0;32m<ipython-input-16-366dd86153ac>\u001b[0m in \u001b[0;36muse_new_vocab\u001b[0;34m(vocabulary)\u001b[0m\n\u001b[1;32m      9\u001b[0m \u001b[0;34m\u001b[0m\u001b[0m\n\u001b[1;32m     10\u001b[0m     \u001b[0;31m# Now, creater vectors from these dictionaries\u001b[0m\u001b[0;34m\u001b[0m\u001b[0;34m\u001b[0m\u001b[0m\n\u001b[0;32m---> 11\u001b[0;31m     \u001b[0mX\u001b[0m \u001b[0;34m=\u001b[0m \u001b[0mDictVectorizer\u001b[0m\u001b[0;34m(\u001b[0m\u001b[0;34m)\u001b[0m\u001b[0;34m.\u001b[0m\u001b[0mfit_transform\u001b[0m\u001b[0;34m(\u001b[0m\u001b[0mnew_bows\u001b[0m\u001b[0;34m)\u001b[0m\u001b[0;34m\u001b[0m\u001b[0m\n\u001b[0m\u001b[1;32m     12\u001b[0m \u001b[0;34m\u001b[0m\u001b[0m\n\u001b[1;32m     13\u001b[0m     \u001b[0;31m# Create test/train splits\u001b[0m\u001b[0;34m\u001b[0m\u001b[0;34m\u001b[0m\u001b[0m\n",
      "\u001b[0;31mNameError\u001b[0m: name 'DictVectorizer' is not defined"
     ]
    }
   ],
   "source": [
    "%%time\n",
    "# Trial 1\n",
    "min_occurence = 100  # TODO: Change this to a big number\n",
    "stop_words = [\"you\", \"be\", \"a\", \"to\", \"me\", \"i\", \"the\", \"it\", \"was\", \"this\", \"has\", \"an\", \"my\", \"he\", \"she\", \"they\", \"we\", \"of\", \"in\"]  # TODO: Change this to have some stop-words\n",
    "\n",
    "vocab, removed_vocab = create_vocab(min_occurence, stop_words)\n",
    "print(len(vocab))\n",
    "print(len(removed_vocab))\n",
    "\n",
    "# Create test/train splits\n",
    "train_X, test_X, train_y, test_y = use_new_vocab(vocab)"
   ]
  },
  {
   "cell_type": "code",
   "execution_count": 18,
   "metadata": {},
   "outputs": [
    {
     "name": "stdout",
     "output_type": "stream",
     "text": [
      "CPU times: user 198 ms, sys: 12.2 ms, total: 210 ms\n",
      "Wall time: 258 ms\n"
     ]
    }
   ],
   "source": [
    "%%time\n",
    "mnb = MultinomialNB()\n",
    "mnb.fit(train_X, train_y)\n",
    "\n",
    "mb_train_acc = mnb.score(train_X, train_y)\n",
    "mb_test_acc = mnb.score(test_X, test_y)"
   ]
  },
  {
   "cell_type": "code",
   "execution_count": 20,
   "metadata": {},
   "outputs": [
    {
     "name": "stdout",
     "output_type": "stream",
     "text": [
      "MB Train accuracy: 77.88%\n",
      "MB Test accuracy: 77.88%\n"
     ]
    }
   ],
   "source": [
    "print(\"MB Train accuracy: {:.2f}%\".format(mb_train_acc * 100))\n",
    "print(\"MB Test accuracy: {:.2f}%\".format(mb_train_acc * 100))"
   ]
  },
  {
   "cell_type": "code",
   "execution_count": 21,
   "metadata": {},
   "outputs": [
    {
     "name": "stdout",
     "output_type": "stream",
     "text": [
      "CPU times: user 28.9 s, sys: 67.6 ms, total: 29 s\n",
      "Wall time: 29.3 s\n"
     ]
    }
   ],
   "source": [
    "%%time\n",
    "rf = RandomForestClassifier(random_state=seed)\n",
    "rf.fit(train_X, train_y)\n",
    "\n",
    "rf_train_acc = rf.score(train_X, train_y)\n",
    "rf_test_acc = rf.score(test_X, test_y)"
   ]
  },
  {
   "cell_type": "code",
   "execution_count": 22,
   "metadata": {},
   "outputs": [
    {
     "name": "stdout",
     "output_type": "stream",
     "text": [
      "RF Train accuracy: 99.04%\n",
      "RF Test accuracy: 76.46%\n"
     ]
    }
   ],
   "source": [
    "print(\"RF Train accuracy: {:.2f}%\".format(rf_train_acc * 100))\n",
    "print(\"RF Test accuracy: {:.2f}%\".format(rf_test_acc * 100))"
   ]
  },
  {
   "cell_type": "code",
   "execution_count": 23,
   "metadata": {},
   "outputs": [
    {
     "name": "stdout",
     "output_type": "stream",
     "text": [
      "2684\n",
      "485802\n",
      "CPU times: user 16.6 s, sys: 716 ms, total: 17.4 s\n",
      "Wall time: 19.5 s\n"
     ]
    }
   ],
   "source": [
    "%%time\n",
    "# Trial 2\n",
    "min_occurence = 500  # TODO: Change this to a big number\n",
    "stop_words = []  # TODO: Change this to have some stop-words\n",
    "\n",
    "vocab, removed_vocab = create_vocab(min_occurence, stop_words)\n",
    "print(len(vocab))\n",
    "print(len(removed_vocab))\n",
    "\n",
    "# Create test/train splits\n",
    "train_X, test_X, train_y, test_y = use_new_vocab(vocab)"
   ]
  },
  {
   "cell_type": "code",
   "execution_count": 24,
   "metadata": {},
   "outputs": [
    {
     "name": "stdout",
     "output_type": "stream",
     "text": [
      "CPU times: user 164 ms, sys: 20.2 ms, total: 184 ms\n",
      "Wall time: 209 ms\n"
     ]
    }
   ],
   "source": [
    "%%time\n",
    "mnb = MultinomialNB()\n",
    "mnb.fit(train_X, train_y)\n",
    "\n",
    "mb_train_acc = mnb.score(train_X, train_y)\n",
    "mb_test_acc = mnb.score(test_X, test_y)"
   ]
  },
  {
   "cell_type": "code",
   "execution_count": 25,
   "metadata": {},
   "outputs": [
    {
     "name": "stdout",
     "output_type": "stream",
     "text": [
      "MB Train accuracy: 73.95%\n",
      "MB Test accuracy: 73.95%\n"
     ]
    }
   ],
   "source": [
    "print(\"MB Train accuracy: {:.2f}%\".format(mb_train_acc * 100))\n",
    "print(\"MB Test accuracy: {:.2f}%\".format(mb_train_acc * 100))"
   ]
  },
  {
   "cell_type": "code",
   "execution_count": 26,
   "metadata": {},
   "outputs": [
    {
     "name": "stdout",
     "output_type": "stream",
     "text": [
      "CPU times: user 33 s, sys: 123 ms, total: 33.1 s\n",
      "Wall time: 33.3 s\n"
     ]
    }
   ],
   "source": [
    "%%time\n",
    "rf = RandomForestClassifier(random_state=seed)\n",
    "rf.fit(train_X, train_y)\n",
    "\n",
    "rf_train_acc = rf.score(train_X, train_y)\n",
    "rf_test_acc = rf.score(test_X, test_y)"
   ]
  },
  {
   "cell_type": "code",
   "execution_count": 27,
   "metadata": {},
   "outputs": [
    {
     "name": "stdout",
     "output_type": "stream",
     "text": [
      "RF Train accuracy: 98.99%\n",
      "RF Test accuracy: 76.17%\n"
     ]
    }
   ],
   "source": [
    "print(\"RF Train accuracy: {:.2f}%\".format(rf_train_acc * 100))\n",
    "print(\"RF Test accuracy: {:.2f}%\".format(rf_test_acc * 100))"
   ]
  },
  {
   "cell_type": "code",
   "execution_count": 84,
   "metadata": {},
   "outputs": [
    {
     "name": "stdout",
     "output_type": "stream",
     "text": [
      "1478\n",
      "487008\n",
      "CPU times: user 15.5 s, sys: 597 ms, total: 16.1 s\n",
      "Wall time: 27.1 s\n"
     ]
    }
   ],
   "source": [
    "%%time\n",
    "# Trial 3\n",
    "min_occurence = 1000  # TODO: Change this to a big number\n",
    "stop_words = [\"you\", \"be\", \"a\", \"to\", \"me\", \"i\", \"the\", \"it\", \"was\", \"this\", \"has\", \"an\", \"my\", \"he\", \"she\", \"they\", \"we\", \"so\", \"game\"]  # TODO: Change this to have some stop-words\n",
    "\n",
    "vocab, removed_vocab = create_vocab(min_occurence, stop_words)\n",
    "print(len(vocab))\n",
    "print(len(removed_vocab))\n",
    "\n",
    "# Create test/train splits\n",
    "train_X, test_X, train_y, test_y = use_new_vocab(vocab)"
   ]
  },
  {
   "cell_type": "code",
   "execution_count": 85,
   "metadata": {},
   "outputs": [
    {
     "name": "stdout",
     "output_type": "stream",
     "text": [
      "CPU times: user 154 ms, sys: 7.68 ms, total: 162 ms\n",
      "Wall time: 179 ms\n"
     ]
    }
   ],
   "source": [
    "%%time\n",
    "mnb = MultinomialNB()\n",
    "mnb.fit(train_X, train_y)\n",
    "\n",
    "mb_train_acc = mnb.score(train_X, train_y)\n",
    "mb_test_acc = mnb.score(test_X, test_y)"
   ]
  },
  {
   "cell_type": "code",
   "execution_count": 86,
   "metadata": {},
   "outputs": [
    {
     "name": "stdout",
     "output_type": "stream",
     "text": [
      "MB Train accuracy: 74.43%\n",
      "MB Test accuracy: 74.43%\n"
     ]
    },
    {
     "data": {
      "text/plain": [
       "Text(89.18,0.5,'Actual label')"
      ]
     },
     "execution_count": 86,
     "metadata": {},
     "output_type": "execute_result"
    },
    {
     "data": {
      "image/png": "[encoded data removed]",
      "text/plain": [
       "<Figure size 432x288 with 1 Axes>"
      ]
     },
     "metadata": {},
     "output_type": "display_data"
    }
   ],
   "source": [
    "print(\"MB Train accuracy: {:.2f}%\".format(mb_train_acc * 100))\n",
    "print(\"MB Test accuracy: {:.2f}%\".format(mb_train_acc * 100))\n",
    "\n",
    "# Create confusion matrix\n",
    "mnb_preds = mnb.predict(test_X)\n",
    "mnb_mat = confusion_matrix(test_y, mnb_preds)\n",
    "\n",
    "sns.heatmap(mnb_mat, square=True, annot=True, cbar=False)\n",
    "plt.xlabel('Predicted label')\n",
    "plt.ylabel('Actual label')\n"
   ]
  },
  {
   "cell_type": "code",
   "execution_count": 54,
   "metadata": {},
   "outputs": [
    {
     "name": "stdout",
     "output_type": "stream",
     "text": [
      "CPU times: user 29.7 s, sys: 42.9 ms, total: 29.7 s\n",
      "Wall time: 30.7 s\n"
     ]
    }
   ],
   "source": [
    "%%time\n",
    "rf = RandomForestClassifier(random_state=seed)\n",
    "rf.fit(train_X, train_y)\n",
    "\n",
    "rf_train_acc = rf.score(train_X, train_y)\n",
    "rf_test_acc = rf.score(test_X, test_y)"
   ]
  },
  {
   "cell_type": "code",
   "execution_count": 55,
   "metadata": {},
   "outputs": [
    {
     "name": "stdout",
     "output_type": "stream",
     "text": [
      "RF Train accuracy: 98.91%\n",
      "RF Test accuracy: 76.33%\n"
     ]
    }
   ],
   "source": [
    "print(\"RF Train accuracy: {:.2f}%\".format(rf_train_acc * 100))\n",
    "print(\"RF Test accuracy: {:.2f}%\".format(rf_test_acc * 100))"
   ]
  },
  {
   "cell_type": "markdown",
   "metadata": {},
   "source": [
    "## TODO: Evaluation\n",
    "\n",
    "Evaluate how well we did using Confusion matrices and accuracies"
   ]
  },
  {
   "cell_type": "markdown",
   "metadata": {},
   "source": [
    "## TODO: Improve the Model\n",
    "\n",
    "Try these approaches to improve your model:\n",
    "- Try changing the minimum occurences\n",
    "- Try different stop-words\n",
    "- Use CV for the faster models\n",
    "- Try [SGDClassifier](http://scikit-learn.org/stable/modules/sgd.html#tips-on-practical-use) and make sure to use `StandardScaler` here just like this document shows.\n",
    "\n",
    "__GOAL:__ See how high you can get your accuracy. I managed to get _76.7_% accuracy with very little tuning."
   ]
  },
  {
   "cell_type": "markdown",
   "metadata": {},
   "source": [
    "## TODO: Use Tf-Idf\n",
    "Use the [TfidfTransformer](http://scikit-learn.org/stable/modules/generated/sklearn.feature_extraction.text.TfidfTransformer.html) on the output from the `DictVectorizer`. This will change our values from being `counts` of a word in a document to being the `tf-idf` value for that word in that document.\n",
    "\n",
    "__GOAL:__ Get 80-85% accuracy. Students with the top 3 accuracies will get a prize."
   ]
  },
  {
   "cell_type": "code",
   "execution_count": 107,
   "metadata": {},
   "outputs": [
    {
     "name": "stdout",
     "output_type": "stream",
     "text": [
      "7093\n",
      "297644\n",
      "CPU times: user 17.1 s, sys: 1.21 s, total: 18.3 s\n",
      "Wall time: 35.4 s\n"
     ]
    }
   ],
   "source": [
    "%%time\n",
    "# Trial 4\n",
    "min_occurence = 100  # TODO: Change this to a big number\n",
    "stop_words = { \"a\", \"about\", \"above\", \"after\", \"again\", \"against\", \"all\", \"am\", \"an\", \"and\", \"any\", \"are\", \"as\", \"at\", \"be\", \"because\", \"been\", \"before\", \"being\", \"below\", \"between\", \"both\", \"but\", \"by\", \"could\", \"did\", \"do\", \"does\", \"doing\", \"down\", \"during\", \"each\", \"few\", \"for\", \"from\", \"further\", \"had\", \"has\", \"have\", \"having\", \"he\", \"hed\", \"hell\", \"hes\", \"her\", \"here\", \"heres\", \"hers\", \"herself\", \"him\", \"himself\", \"his\", \"how\", \"how's\", \"i\", \"id\", \"ill\", \"im\", \"ive\", \"if\", \"in\", \"into\", \"is\", \"it\", \"its\", \"its\", \"itself\", \"lets\", \"me\", \"more\", \"most\", \"my\", \"myself\", \"nor\", \"of\", \"on\", \"once\", \"only\", \"or\", \"other\", \"ought\", \"our\", \"ours\", \"ourselves\", \"out\", \"over\", \"own\", \"same\", \"she\", \"she'd\", \"shell\", \"shes\", \"should\", \"so\", \"some\", \"such\", \"than\", \"that\", \"thats\", \"the\", \"their\", \"theirs\", \"them\", \"themselves\", \"then\", \"there\", \"theres\", \"these\", \"they\", \"theyd\", \"theyll\", \"theyre\", \"theyve\", \"this\", \"those\", \"through\", \"to\", \"too\", \"under\", \"until\", \"up\", \"very\", \"was\", \"we\", \"wed\", \"well\", \"were\", \"weve\", \"were\", \"what\", \"whats\", \"when\", \"whens\", \"where\", \"wheres\", \"which\", \"while\", \"who\", \"whos\", \"whom\", \"why\", \"whys\", \"with\", \"would\", \"you\", \"youd\", \"youll\", \"youre\", \"you've\", \"your\", \"yours\", \"yourself\", \"yourselves\" }  # TODO: Change this to have some stop-words\n",
    "\n",
    "vocab, removed_vocab = create_vocab(min_occurence, stop_words)\n",
    "\n",
    "print(len(vocab))\n",
    "print(len(removed_vocab))\n",
    "\n",
    "# Create test/train splits\n",
    "train_X, test_X, train_y, test_y = use_new_vocab(vocab)\n",
    "\n",
    "transformer = TfidfTransformer(norm=\"l2\")\n",
    "transformer.fit(train_X)\n",
    "train_tf_X = transformer.transform(train_X)\n",
    "test_tf_X = transformer.transform(test_X)"
   ]
  },
  {
   "cell_type": "code",
   "execution_count": 90,
   "metadata": {},
   "outputs": [
    {
     "name": "stdout",
     "output_type": "stream",
     "text": [
      "MB Train accuracy: 77.21%\n",
      "MB Test accuracy: 76.74%\n"
     ]
    }
   ],
   "source": [
    "mnb = MultinomialNB()\n",
    "mnb.fit(train_tf_X, train_y)\n",
    "\n",
    "mb_train_acc = mnb.score(train_tf_X, train_y)\n",
    "mb_test_acc = mnb.score(test_tf_X, test_y)\n",
    "\n",
    "print(\"MB Train accuracy: {:.2f}%\".format(mb_train_acc * 100))\n",
    "print(\"MB Test accuracy: {:.2f}%\".format(mb_test_acc * 100))"
   ]
  },
  {
   "cell_type": "code",
   "execution_count": 109,
   "metadata": {},
   "outputs": [
    {
     "name": "stdout",
     "output_type": "stream",
     "text": [
      "SG Train accuracy: 81.03%\n",
      "SG Test accuracy: 80.03%\n"
     ]
    }
   ],
   "source": [
    "sg = SGDClassifier(loss=\"hinge\", penalty=\"l2\", n_jobs=1)\n",
    "sg.fit(train_tf_X, train_y)\n",
    "\n",
    "sg_train_acc = sg.score(train_tf_X, train_y)\n",
    "sg_test_acc = sg.score(test_tf_X, test_y)\n",
    "\n",
    "print(\"SG Train accuracy: {:.2f}%\".format(sg_train_acc * 100))\n",
    "print(\"SG Test accuracy: {:.2f}%\".format(sg_test_acc * 100))"
   ]
  },
  {
   "cell_type": "code",
   "execution_count": null,
   "metadata": {},
   "outputs": [],
   "source": []
  },
  {
   "cell_type": "code",
   "execution_count": null,
   "metadata": {},
   "outputs": [],
   "source": []
  }
 ],
 "metadata": {
  "kernelspec": {
   "display_name": "Python 3",
   "language": "python",
   "name": "python3"
  },
  "language_info": {
   "codemirror_mode": {
    "name": "ipython",
    "version": 3
   },
   "file_extension": ".py",
   "mimetype": "text/x-python",
   "name": "python",
   "nbconvert_exporter": "python",
   "pygments_lexer": "ipython3",
   "version": "3.6.6"
  }
 },
 "nbformat": 4,
 "nbformat_minor": 2
}
