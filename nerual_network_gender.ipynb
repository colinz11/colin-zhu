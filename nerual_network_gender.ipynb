{
 "cells": [
  {
   "cell_type": "markdown",
   "metadata": {},
   "source": [
    "# Naive Bayes Classifier By Hand\n",
    "\n",
    "We're going to create our own Naive Bayes classifier to classify if the given information about a person's height, weight, and age indicate that this person is male or female.\n",
    "\n",
    "For this, we'll use a custom dataset called `people.csv`, which you'll find in the `datasets/` folder."
   ]
  },
  {
   "cell_type": "code",
   "execution_count": 46,
   "metadata": {},
   "outputs": [],
   "source": [
    "# Standard scientific Python imports\n",
    "import matplotlib.pyplot as plt\n",
    "\n",
    "# This gives us dataframes which will allow us to build our custom\n",
    "# Naive Bayes Classifier\n",
    "import pandas as pd\n",
    "\n",
    "# Standard numeric library that gives us optimized arrays and vectors\n",
    "import numpy as np\n",
    "\n",
    "# Import datasets, and performance metrics\n",
    "from sklearn import datasets, metrics\n",
    "\n",
    "# Import the Multi-Layer Perceptron Classifier. This is the model we will train.\n",
    "from sklearn.neural_network import MLPClassifier"
   ]
  },
  {
   "cell_type": "code",
   "execution_count": 47,
   "metadata": {},
   "outputs": [
    {
     "data": {
      "text/html": [
       "<div>\n",
       "<style scoped>\n",
       "    .dataframe tbody tr th:only-of-type {\n",
       "        vertical-align: middle;\n",
       "    }\n",
       "\n",
       "    .dataframe tbody tr th {\n",
       "        vertical-align: top;\n",
       "    }\n",
       "\n",
       "    .dataframe thead th {\n",
       "        text-align: right;\n",
       "    }\n",
       "</style>\n",
       "<table border=\"1\" class=\"dataframe\">\n",
       "  <thead>\n",
       "    <tr style=\"text-align: right;\">\n",
       "      <th></th>\n",
       "      <th>Height</th>\n",
       "      <th>Weight</th>\n",
       "      <th>Age</th>\n",
       "      <th>Gender</th>\n",
       "    </tr>\n",
       "  </thead>\n",
       "  <tbody>\n",
       "    <tr>\n",
       "      <th>0</th>\n",
       "      <td>151.765</td>\n",
       "      <td>47.825606</td>\n",
       "      <td>63.0</td>\n",
       "      <td>male</td>\n",
       "    </tr>\n",
       "    <tr>\n",
       "      <th>1</th>\n",
       "      <td>139.700</td>\n",
       "      <td>36.485807</td>\n",
       "      <td>63.0</td>\n",
       "      <td>female</td>\n",
       "    </tr>\n",
       "    <tr>\n",
       "      <th>2</th>\n",
       "      <td>136.525</td>\n",
       "      <td>31.864838</td>\n",
       "      <td>65.0</td>\n",
       "      <td>female</td>\n",
       "    </tr>\n",
       "    <tr>\n",
       "      <th>3</th>\n",
       "      <td>156.845</td>\n",
       "      <td>53.041915</td>\n",
       "      <td>41.0</td>\n",
       "      <td>male</td>\n",
       "    </tr>\n",
       "    <tr>\n",
       "      <th>4</th>\n",
       "      <td>145.415</td>\n",
       "      <td>41.276872</td>\n",
       "      <td>51.0</td>\n",
       "      <td>female</td>\n",
       "    </tr>\n",
       "  </tbody>\n",
       "</table>\n",
       "</div>"
      ],
      "text/plain": [
       "    Height     Weight   Age  Gender\n",
       "0  151.765  47.825606  63.0    male\n",
       "1  139.700  36.485807  63.0  female\n",
       "2  136.525  31.864838  65.0  female\n",
       "3  156.845  53.041915  41.0    male\n",
       "4  145.415  41.276872  51.0  female"
      ]
     },
     "execution_count": 47,
     "metadata": {},
     "output_type": "execute_result"
    }
   ],
   "source": [
    "dataset = \"datasets/people.csv\"\n",
    "\n",
    "# We can read in a properly formatted CSV using this helper function.\n",
    "# This reads it in as a pandas dataframe object, which gives us a lot\n",
    "# of the same functionality we get in Excel like filtering, sorting, etc\n",
    "df = pd.read_csv(dataset)\n",
    "\n",
    "# This head() function gives us the first 5 items, which Jupyter notebook\n",
    "# formats nicely for us.\n",
    "df.head()"
   ]
  },
  {
   "cell_type": "markdown",
   "metadata": {},
   "source": [
    "####  Training Set and Test Set\n",
    "\n",
    "Now, we're going to split our dataset up into test and training. We want 70% of our data to go for testing, 30% for testing.\n"
   ]
  },
  {
   "cell_type": "code",
   "execution_count": 48,
   "metadata": {},
   "outputs": [
    {
     "name": "stdout",
     "output_type": "stream",
     "text": [
      "543\n",
      "Training set size: 380\n",
      "Test set size: 163\n"
     ]
    }
   ],
   "source": [
    "# This is how many examples we have.\n",
    "n_samples = df.shape[0]\n",
    "print(n_samples)\n",
    "\n",
    "# TODO: Compute train_size and test_size\n",
    "train_size = int(n_samples * 0.70)\n",
    "test_size = n_samples - train_size\n",
    "\n",
    "print(\"Training set size: {}\".format(train_size))\n",
    "print(\"Test set size: {}\".format(test_size))\n"
   ]
  },
  {
   "cell_type": "code",
   "execution_count": 49,
   "metadata": {},
   "outputs": [
    {
     "name": "stderr",
     "output_type": "stream",
     "text": [
      "/usr/local/lib/python3.6/dist-packages/sklearn/neural_network/multilayer_perceptron.py:564: ConvergenceWarning: Stochastic Optimizer: Maximum iterations (5) reached and the optimization hasn't converged yet.\n",
      "  % self.max_iter, ConvergenceWarning)\n"
     ]
    },
    {
     "data": {
      "text/plain": [
       "[<matplotlib.lines.Line2D at 0x7fdc2154abe0>]"
      ]
     },
     "execution_count": 49,
     "metadata": {},
     "output_type": "execute_result"
    },
    {
     "data": {
      "image/png": "[encoded data removed]",
      "text/plain": [
       "<Figure size 432x288 with 1 Axes>"
      ]
     },
     "metadata": {},
     "output_type": "display_data"
    }
   ],
   "source": [
    "data = []\n",
    "gender = []\n",
    "for row in df.itertuples():\n",
    "    row = list(row)\n",
    "    gender.append(row[4])\n",
    "    del row[4]\n",
    "    del row[0]\n",
    "    row = tuple(row)\n",
    "    data.append(row)\n",
    "    \n",
    "# We need to now create our test and train splits\n",
    "\n",
    "# We'll train on 70% of our data\n",
    "train_X = data[:train_size]\n",
    "train_y = gender[:train_size]\n",
    "# The remaining samples are for our test set\n",
    "\n",
    "test_X = data[train_size:]\n",
    "test_y = gender[train_size:]\n",
    "\n",
    "\n",
    "epoch_counts = [5, 10, 20, 50, 100, 140, 200, 500, 1000, 2000] # We'll loop over this and set the MLP max iterations to this\n",
    "classifiers = [] # Append your classifiers here after applying .fit() to them\n",
    "\n",
    "train_accs = [] # Append train accuracies here\n",
    "test_accs = [] # Append test accuracies here\n",
    "\n",
    "for epoch_count in epoch_counts:\n",
    "    # TODO: Use the epoch_count variable here, refer to MLP docs\n",
    "    classifier = MLPClassifier(random_state=42,max_iter=epoch_count)\n",
    "    # TODO: Use the fit() function here\n",
    "    classifier.fit(train_X, train_y)\n",
    "    # TODO: Compute the accuracies below\n",
    "    train_error = classifier.score(train_X, train_y)\n",
    "    test_error = classifier.score(test_X, test_y)\n",
    "    \n",
    "    train_acc = train_error\n",
    "    test_acc = test_error\n",
    "    \n",
    "    train_accs.append(train_acc)\n",
    "    test_accs.append(test_acc)\n",
    "    \n",
    "    # Now let's plot the results\n",
    "plt.plot(epoch_counts, train_accs, \"g\")\n",
    "plt.plot(epoch_counts, test_accs, \"r\")"
   ]
  },
  {
   "cell_type": "markdown",
   "metadata": {},
   "source": [
    "\n",
    "## Recap: Bayes Theorem\n",
    "\n",
    "Bayes theorem is a famous equation that allows us to make predictions based on data:\n",
    "\n",
    "$$\n",
    "P(A \\mid B) = \\frac{P(B \\mid A) P(A)}{P(B)}\n",
    "$$\n",
    "\n",
    "Specifically, we're trying to figure out the class (i.e. \"male\" or \"female\") of an observation _given_ the data\n",
    "\n",
    "$$\n",
    "p(class \\mid \\mathbf{data}) = \\frac{p(\\mathbf{data} \\mid class) * p(class)}{p(\\mathbf{data})}\n",
    "$$\n",
    "\n",
    "\n",
    "where:\n",
    "- class is a particular class (i.e. \"male\" or \"female\")\n",
    "- $\\mathbf{data}$ is an observation's data (the features)\n",
    "- $p(class \\mid \\mathbf{data})$ is called the posterior\n",
    "- $p(\\mathbf{data} \\mid class)$ is called the likelihood\n",
    "- $p(class)$ is called the prior\n",
    "- $p(\\mathbf{data})$ is called the marginal probability"
   ]
  },
  {
   "cell_type": "markdown",
   "metadata": {},
   "source": [
    "### Bayes Theorem Applied to Predicting \"Male\" or \"Female\"\n",
    "\n",
    "$$\n",
    "p(person\\:is\\:male \\mid \\mathbf{person's\\:data}) = \\frac{\n",
    "p(\\mathbf{person's\\:data}\\mid person\\:is\\:male) * p(person\\:is\\:male)\n",
    "}{\n",
    "p(\\mathbf{person's\\:data})\n",
    "}\n",
    "$$\n",
    "\n",
    "#### More Specifically:\n",
    "Let's factor in height, weight, age\n",
    "$$\n",
    "posterior(male) = \\frac{\n",
    "p(height \\mid male)\\,p(weight|male)\\,p(age \\mid male)\\,p(male)\n",
    "}{\n",
    "\\mathit{marginal\\;probability}\n",
    "}\n",
    "$$\n",
    "\n",
    "\n",
    "__Two things to note:__\n",
    "\n",
    "1. We assume each feature is uncorrelated from each other. This independence assumption of Naive Bayes is what makes it \"Naive\". This assumption may not be true in the real world but let's stick with it and see what happens.\n",
    "\n",
    "2. We assume that the value of the features (height of the women, weight of the women) are normally (gaussian) distributed. This means that $p(height \\mid female)$ is calculated by inputing the required parameters into the probability density function of the normal distribution:\n",
    "\n",
    "__WARNING__: Very mathy, but we'll just have one helper function do this for us.\n",
    "\n",
    "$$\n",
    "p(height \\mid female) = \\frac{1}{\\sqrt{2\\pi(\\text{variance of female height in data})}}\n",
    "- e^{-\\frac{\n",
    " (\\text{observation's height} - \\text{average height of females in the data})^2\n",
    "}{\n",
    "2*(\\text{variance of female height in data})\n",
    "}\n",
    "}\n",
    "$$\n",
    "\n",
    "\n"
   ]
  },
  {
   "cell_type": "code",
   "execution_count": null,
   "metadata": {},
   "outputs": [],
   "source": [
    "\n",
    "    \n",
    " "
   ]
  },
  {
   "cell_type": "code",
   "execution_count": null,
   "metadata": {},
   "outputs": [],
   "source": []
  },
  {
   "cell_type": "code",
   "execution_count": null,
   "metadata": {},
   "outputs": [],
   "source": []
  },
  {
   "cell_type": "code",
   "execution_count": null,
   "metadata": {},
   "outputs": [],
   "source": []
  },
  {
   "cell_type": "markdown",
   "metadata": {},
   "source": [
    "## Pandas Documentation\n",
    "Refer to [pandas docs](https://pandas.pydata.org/pandas-docs/stable/generated/pandas.DataFrame.var.html) for this next part."
   ]
  },
  {
   "cell_type": "code",
   "execution_count": null,
   "metadata": {},
   "outputs": [],
   "source": []
  },
  {
   "cell_type": "code",
   "execution_count": null,
   "metadata": {},
   "outputs": [],
   "source": []
  },
  {
   "cell_type": "code",
   "execution_count": null,
   "metadata": {},
   "outputs": [],
   "source": []
  },
  {
   "cell_type": "markdown",
   "metadata": {},
   "source": [
    "## Apply Bayes Classifier to New Data Point\n",
    "\n",
    "Now, all we have to do when we get a new datapoint is extract the features out and compare which label has a higher\n",
    "probability."
   ]
  },
  {
   "cell_type": "code",
   "execution_count": null,
   "metadata": {},
   "outputs": [],
   "source": []
  },
  {
   "cell_type": "code",
   "execution_count": null,
   "metadata": {},
   "outputs": [],
   "source": []
  },
  {
   "cell_type": "code",
   "execution_count": null,
   "metadata": {},
   "outputs": [],
   "source": []
  },
  {
   "cell_type": "code",
   "execution_count": null,
   "metadata": {},
   "outputs": [],
   "source": []
  },
  {
   "cell_type": "code",
   "execution_count": null,
   "metadata": {},
   "outputs": [],
   "source": []
  },
  {
   "cell_type": "code",
   "execution_count": null,
   "metadata": {},
   "outputs": [],
   "source": []
  },
  {
   "cell_type": "code",
   "execution_count": null,
   "metadata": {},
   "outputs": [],
   "source": []
  },
  {
   "cell_type": "code",
   "execution_count": null,
   "metadata": {},
   "outputs": [],
   "source": []
  },
  {
   "cell_type": "code",
   "execution_count": null,
   "metadata": {},
   "outputs": [],
   "source": []
  },
  {
   "cell_type": "code",
   "execution_count": null,
   "metadata": {},
   "outputs": [],
   "source": []
  },
  {
   "cell_type": "code",
   "execution_count": null,
   "metadata": {},
   "outputs": [],
   "source": []
  },
  {
   "cell_type": "code",
   "execution_count": null,
   "metadata": {},
   "outputs": [],
   "source": []
  },
  {
   "cell_type": "code",
   "execution_count": null,
   "metadata": {},
   "outputs": [],
   "source": []
  }
 ],
 "metadata": {
  "kernelspec": {
   "display_name": "Python 2",
   "language": "python",
   "name": "python2"
  },
  "language_info": {
   "codemirror_mode": {
    "name": "ipython",
    "version": 3
   },
   "file_extension": ".py",
   "mimetype": "text/x-python",
   "name": "python",
   "nbconvert_exporter": "python",
   "pygments_lexer": "ipython3",
   "version": "3.6.5"
  }
 },
 "nbformat": 4,
 "nbformat_minor": 2
}
