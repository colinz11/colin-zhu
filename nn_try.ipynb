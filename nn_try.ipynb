{
 "cells": [
  {
   "cell_type": "markdown",
   "metadata": {},
   "source": [
    "# Classification of Handwritten Digits\n",
    "\n",
    "Example adapted from [scikit-learn docs](http://scikit-learn.org/stable/auto_examples/classification/plot_digits_classification.html)"
   ]
  },
  {
   "cell_type": "code",
   "execution_count": 23,
   "metadata": {},
   "outputs": [],
   "source": [
    "# Standard scientific Python imports\n",
    "import matplotlib.pyplot as plt\n",
    "\n",
    "# Import datasets, and performance metrics\n",
    "from sklearn import datasets, metrics\n",
    "\n",
    "# Import the Multi-Layer Perceptron Classifier. This is the model we will train.\n",
    "from sklearn.neural_network import MLPClassifier"
   ]
  },
  {
   "cell_type": "code",
   "execution_count": 24,
   "metadata": {},
   "outputs": [],
   "source": [
    "# This is a seed for the random number generator, we set this to make\n",
    "# reproducible results\n",
    "seed = 42"
   ]
  },
  {
   "cell_type": "code",
   "execution_count": 25,
   "metadata": {},
   "outputs": [],
   "source": [
    "# The handwritten digits dataset\n",
    "digits = datasets.load_digits()"
   ]
  },
  {
   "cell_type": "code",
   "execution_count": 26,
   "metadata": {},
   "outputs": [
    {
     "name": "stdout",
     "output_type": "stream",
     "text": [
      "[[ 0.  0.  5. 13.  9.  1.  0.  0.]\n",
      " [ 0.  0. 13. 15. 10. 15.  5.  0.]\n",
      " [ 0.  3. 15.  2.  0. 11.  8.  0.]\n",
      " [ 0.  4. 12.  0.  0.  8.  8.  0.]\n",
      " [ 0.  5.  8.  0.  0.  9.  8.  0.]\n",
      " [ 0.  4. 11.  0.  1. 12.  7.  0.]\n",
      " [ 0.  2. 14.  5. 10. 12.  0.  0.]\n",
      " [ 0.  0.  6. 13. 10.  0.  0.  0.]]\n",
      "\n",
      "Here are the dimensions of the first feature matrix: (8, 8)\n"
     ]
    }
   ],
   "source": [
    "# Each image right now is an 8 x 8 matrix of grayscale pixel values\n",
    "# Here we print the first image's pixel values.\n",
    "print(digits.images[0])\n",
    "print(\"\\nHere are the dimensions of the first feature matrix: {}\".format(digits.images[0].shape))"
   ]
  },
  {
   "cell_type": "code",
   "execution_count": 27,
   "metadata": {},
   "outputs": [
    {
     "name": "stdout",
     "output_type": "stream",
     "text": [
      "Number of examples we have: 1797\n",
      "Here are the dimensions of the feature vectors stacked up together: (1797, 64)\n",
      "Here is the length of each feature vector X: (64,)\n"
     ]
    }
   ],
   "source": [
    "# To apply a classifier on this data, we need to flatten the image, to\n",
    "# turn the data in a (samples, feature) matrix:\n",
    "n_samples = len(digits.images)\n",
    "print(\"Number of examples we have: {}\".format(n_samples))\n",
    "\n",
    "# Data is a list of vectors now, each vector is length 64, since the image dimensions are 8 x 8.\n",
    "data = digits.images.reshape((n_samples, -1))\n",
    "\n",
    "print(\"Here are the dimensions of the feature vectors stacked up together: {}\".format(data.shape))\n",
    "\n",
    "print(\"Here is the length of each feature vector X: {}\".format(data[0].shape))"
   ]
  },
  {
   "cell_type": "code",
   "execution_count": 28,
   "metadata": {},
   "outputs": [
    {
     "name": "stdout",
     "output_type": "stream",
     "text": [
      "1257\n",
      "540\n"
     ]
    }
   ],
   "source": [
    "# We need to now create our test and train splits\n",
    "\n",
    "# We'll train on 70% of our data\n",
    "train_size = int(n_samples * 0.70)\n",
    "train_X = data[:train_size]\n",
    "train_y = digits.target[:train_size]\n",
    "print(len(train_X))\n",
    "\n",
    "# The remaining samples are for our test set\n",
    "test_size = n_samples - train_size\n",
    "test_X = data[train_size:]\n",
    "test_y = digits.target[train_size:]\n",
    "print(len(test_X))\n",
    "\n",
    "assert n_samples == (len(test_X) + len(train_X))"
   ]
  },
  {
   "cell_type": "markdown",
   "metadata": {},
   "source": [
    "# MLP: Multi-layer Perceptron Classifier\n",
    "Read the [Docs](http://scikit-learn.org/stable/modules/generated/sklearn.neural_network.MLPClassifier.html#sklearn.neural_network.MLPClassifier)"
   ]
  },
  {
   "cell_type": "markdown",
   "metadata": {},
   "source": [
    "## TODO\n",
    "You're going to test out the MLP with different parameters.\n",
    "\n",
    "First, let's do different max iteration / epoch values. An epoch is an interation, so we can limit\n",
    "the number of iterations and see it's effect on training / testing accuracy.\n",
    "\n",
    "We'll plot it at the end."
   ]
  },
  {
   "cell_type": "code",
   "execution_count": 29,
   "metadata": {},
   "outputs": [],
   "source": [
    "epoch_counts = [5, 10, 20, 50, 100, 140, 200, 500, 1000, 2000] # We'll loop over this and set the MLP max iterations to this\n",
    "classifiers = [] # Append your classifiers here after applying .fit() to them\n",
    "\n",
    "train_accs = [] # Append train accuracies here\n",
    "test_accs = [] # Append test accuracies here"
   ]
  },
  {
   "cell_type": "code",
   "execution_count": 38,
   "metadata": {},
   "outputs": [],
   "source": [
    "for epoch_count in epoch_counts:\n",
    "    # TODO: Use the epoch_count variable here, refer to MLP docs\n",
    "    classifier = MLPClassifier(random_state=seed, max_iter=epoch_count)\n",
    "    # TODO: Use the fit() function here\n",
    "    classifier.fit(train_X, train_y)\n",
    "    # TODO: Compute the accuracies below\n",
    "    train_error = classifier.score(train_X, train_y)\n",
    "    test_error = classifier.score(test_X, test_y)\n",
    "    train_acc = train_error\n",
    "    test_acc = test_error\n",
    "    \n",
    "    train_accs.append(train_acc)\n",
    "    test_accs.append(test_acc)\n",
    "    \n",
    "    # TODO: Append the accuracies to the respective lists"
   ]
  },
  {
   "cell_type": "code",
   "execution_count": 39,
   "metadata": {},
   "outputs": [
    {
     "data": {
      "text/plain": [
       "[<matplotlib.lines.Line2D at 0x7f7b47664b90>]"
      ]
     },
     "execution_count": 39,
     "metadata": {},
     "output_type": "execute_result"
    },
    {
     "data": {
      "image/png": "[encoded data removed]",
      "text/plain": [
       "<Figure size 432x288 with 1 Axes>"
      ]
     },
     "metadata": {},
     "output_type": "display_data"
    }
   ],
   "source": [
    "# Now let's plot the results\n",
    "plt.plot(epoch_counts, train_accs, \"g\")\n",
    "plt.plot(epoch_counts, test_accs, \"r\")"
   ]
  },
  {
   "cell_type": "code",
   "execution_count": 40,
   "metadata": {},
   "outputs": [],
   "source": [
    "# If you're running this outside of Jupyter notebook,\n",
    "# uncomment this next line.\n",
    "# plt.show()"
   ]
  },
  {
   "cell_type": "code",
   "execution_count": null,
   "metadata": {},
   "outputs": [],
   "source": []
  },
  {
   "cell_type": "code",
   "execution_count": null,
   "metadata": {},
   "outputs": [],
   "source": []
  }
 ],
 "metadata": {
  "kernelspec": {
   "display_name": "Python 2",
   "language": "python",
   "name": "python2"
  },
  "language_info": {
   "codemirror_mode": {
    "name": "ipython",
    "version": 3
   },
   "file_extension": ".py",
   "mimetype": "text/x-python",
   "name": "python",
   "nbconvert_exporter": "python",
   "pygments_lexer": "ipython3",
   "version": "3.6.5"
  }
 },
 "nbformat": 4,
 "nbformat_minor": 2
}
