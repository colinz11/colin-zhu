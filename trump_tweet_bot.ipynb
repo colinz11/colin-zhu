{
 "cells": [
  {
   "cell_type": "markdown",
   "metadata": {},
   "source": [
    "# Trump Tweet Bot\n",
    "\n",
    "\n",
    "The dataset will be at `datasets/trump_tweet.json`. \n",
    "\n",
    "__Resources:__\n",
    "- [Scikit-learn cheat sheet](http://scikit-learn.org/stable/tutorial/machine_learning_map/index.html)\n",
    "- [Wiki: Tf-idf](https://en.wikipedia.org/wiki/Tf%E2%80%93idf)\n",
    "- [Wiki: Bag of Words](https://en.wikipedia.org/wiki/Bag-of-words_model)"
   ]
  },
  {
   "cell_type": "code",
   "execution_count": 1,
   "metadata": {},
   "outputs": [
    {
     "name": "stderr",
     "output_type": "stream",
     "text": [
      "/Library/Frameworks/Python.framework/Versions/3.6/lib/python3.6/importlib/_bootstrap.py:219: RuntimeWarning: numpy.dtype size changed, may indicate binary incompatibility. Expected 96, got 88\n",
      "  return f(*args, **kwds)\n",
      "/Library/Frameworks/Python.framework/Versions/3.6/lib/python3.6/importlib/_bootstrap.py:219: RuntimeWarning: numpy.dtype size changed, may indicate binary incompatibility. Expected 96, got 88\n",
      "  return f(*args, **kwds)\n",
      "/Library/Frameworks/Python.framework/Versions/3.6/lib/python3.6/site-packages/sklearn/ensemble/weight_boosting.py:29: DeprecationWarning: numpy.core.umath_tests is an internal NumPy module and should not be imported. It will be removed in a future NumPy release.\n",
      "  from numpy.core.umath_tests import inner1d\n",
      "Using TensorFlow backend.\n"
     ]
    }
   ],
   "source": [
    "import numpy as np\n",
    "import pandas as pd\n",
    "import matplotlib.pyplot as plt\n",
    "import seaborn as sns\n",
    "sns.set()\n",
    "\n",
    "# This built-in will help us out for Counting words\n",
    "from collections import Counter\n",
    "\n",
    "import sklearn\n",
    "\n",
    "import torch\n",
    "\n",
    "# DictVectorizer will turn a list of dictionaries (BOWs in this case)\n",
    "# into a Matrix.\n",
    "from sklearn.feature_extraction import DictVectorizer\n",
    "\n",
    "# To create test/train splits\n",
    "from sklearn.model_selection import train_test_split\n",
    "\n",
    "# Multinomial Naive Bayes\n",
    "from sklearn.naive_bayes import MultinomialNB\n",
    "\n",
    "# Neural Networks\n",
    "from sklearn.neural_network import MLPClassifier\n",
    "\n",
    "# Random Forests\n",
    "from sklearn.ensemble import RandomForestClassifier\n",
    "\n",
    "# Confusion matrix\n",
    "from sklearn.metrics import confusion_matrix\n",
    "\n",
    "from sklearn.preprocessing import StandardScaler\n",
    "\n",
    "from sklearn.linear_model import SGDClassifier\n",
    "\n",
    "from sklearn.feature_extraction.text import TfidfTransformer\n",
    "\n",
    "import markovify\n",
    "\n",
    "from keras.models import Sequential\n",
    "from keras.layers import Dense, Activation\n",
    "\n",
    "from keras.layers import LSTM\n",
    "\n",
    "from torch.nn import LSTM"
   ]
  },
  {
   "cell_type": "code",
   "execution_count": 2,
   "metadata": {},
   "outputs": [],
   "source": [
    "# This is to stop the barrage of warning messages we'll get later\n",
    "import warnings; warnings.simplefilter('ignore')"
   ]
  },
  {
   "cell_type": "code",
   "execution_count": 3,
   "metadata": {},
   "outputs": [],
   "source": [
    "# Create a seed to use later.\n",
    "seed = 42"
   ]
  },
  {
   "cell_type": "code",
   "execution_count": 4,
   "metadata": {},
   "outputs": [
    {
     "data": {
      "text/html": [
       "<div>\n",
       "<style scoped>\n",
       "    .dataframe tbody tr th:only-of-type {\n",
       "        vertical-align: middle;\n",
       "    }\n",
       "\n",
       "    .dataframe tbody tr th {\n",
       "        vertical-align: top;\n",
       "    }\n",
       "\n",
       "    .dataframe thead th {\n",
       "        text-align: right;\n",
       "    }\n",
       "</style>\n",
       "<table border=\"1\" class=\"dataframe\">\n",
       "  <thead>\n",
       "    <tr style=\"text-align: right;\">\n",
       "      <th></th>\n",
       "      <th>source</th>\n",
       "      <th>text</th>\n",
       "      <th>created_at</th>\n",
       "      <th>retweet_count</th>\n",
       "      <th>favorite_count</th>\n",
       "      <th>is_retweet</th>\n",
       "      <th>id_str</th>\n",
       "    </tr>\n",
       "  </thead>\n",
       "  <tbody>\n",
       "    <tr>\n",
       "      <th>0</th>\n",
       "      <td>Media Studio</td>\n",
       "      <td>The United States and the European Union have ...</td>\n",
       "      <td>07-25-2018 20:57:24</td>\n",
       "      <td>7533.0</td>\n",
       "      <td>26821</td>\n",
       "      <td>false</td>\n",
       "      <td>1.022224e+18</td>\n",
       "    </tr>\n",
       "    <tr>\n",
       "      <th>1</th>\n",
       "      <td>Twitter for iPhone</td>\n",
       "      <td>Congratulations to Brian Kemp on your very big...</td>\n",
       "      <td>07-25-2018 12:41:14</td>\n",
       "      <td>14934.0</td>\n",
       "      <td>64484</td>\n",
       "      <td>false</td>\n",
       "      <td>1.022099e+18</td>\n",
       "    </tr>\n",
       "    <tr>\n",
       "      <th>2</th>\n",
       "      <td>Twitter for iPhone</td>\n",
       "      <td>What kind of a lawyer would tape a client? So ...</td>\n",
       "      <td>07-25-2018 12:34:58</td>\n",
       "      <td>18161.0</td>\n",
       "      <td>77616</td>\n",
       "      <td>false</td>\n",
       "      <td>1.022098e+18</td>\n",
       "    </tr>\n",
       "    <tr>\n",
       "      <th>3</th>\n",
       "      <td>Twitter for iPhone</td>\n",
       "      <td>China is targeting our farmers who they know I...</td>\n",
       "      <td>07-25-2018 11:20:28</td>\n",
       "      <td>16320.0</td>\n",
       "      <td>61422</td>\n",
       "      <td>false</td>\n",
       "      <td>1.022079e+18</td>\n",
       "    </tr>\n",
       "    <tr>\n",
       "      <th>4</th>\n",
       "      <td>Twitter for iPhone</td>\n",
       "      <td>When you have people snipping at your heels du...</td>\n",
       "      <td>07-25-2018 11:08:39</td>\n",
       "      <td>17508.0</td>\n",
       "      <td>77687</td>\n",
       "      <td>false</td>\n",
       "      <td>1.022076e+18</td>\n",
       "    </tr>\n",
       "  </tbody>\n",
       "</table>\n",
       "</div>"
      ],
      "text/plain": [
       "               source                                               text  \\\n",
       "0        Media Studio  The United States and the European Union have ...   \n",
       "1  Twitter for iPhone  Congratulations to Brian Kemp on your very big...   \n",
       "2  Twitter for iPhone  What kind of a lawyer would tape a client? So ...   \n",
       "3  Twitter for iPhone  China is targeting our farmers who they know I...   \n",
       "4  Twitter for iPhone  When you have people snipping at your heels du...   \n",
       "\n",
       "            created_at  retweet_count favorite_count is_retweet        id_str  \n",
       "0  07-25-2018 20:57:24         7533.0          26821      false  1.022224e+18  \n",
       "1  07-25-2018 12:41:14        14934.0          64484      false  1.022099e+18  \n",
       "2  07-25-2018 12:34:58        18161.0          77616      false  1.022098e+18  \n",
       "3  07-25-2018 11:20:28        16320.0          61422      false  1.022079e+18  \n",
       "4  07-25-2018 11:08:39        17508.0          77687      false  1.022076e+18  "
      ]
     },
     "execution_count": 4,
     "metadata": {},
     "output_type": "execute_result"
    }
   ],
   "source": [
    "# First import your dataset as usual\n",
    "\n",
    "dataset = \"datasets/trump_tweet.csv\"\n",
    "\n",
    "\n",
    "df = pd.read_csv(dataset)\n",
    "\n",
    "real_tweets = df['text']\n",
    "\n",
    "df.head()"
   ]
  },
  {
   "cell_type": "code",
   "execution_count": 19,
   "metadata": {},
   "outputs": [],
   "source": [
    "# Get raw text as string.\n",
    "with open(\"datasets/trump_tweet.csv\") as csv:\n",
    "    df = csv.read()\n",
    "\n",
    "# Build the model.\n",
    "markov = markovify.Text(df)\n",
    "\n",
    "# Print five randomly-generated sentences\n",
    "tweets = []\n",
    "for i in range(10):\n",
    "    tweets.append(markov.make_sentence())\n"
   ]
  },
  {
   "cell_type": "code",
   "execution_count": 20,
   "metadata": {},
   "outputs": [],
   "source": [
    "trump_tweet = []\n",
    "for tweet in tweets:\n",
    "    trump_tweet.append(tweet.split(\",\")[0])"
   ]
  },
  {
   "cell_type": "code",
   "execution_count": 21,
   "metadata": {
    "scrolled": true
   },
   "outputs": [
    {
     "name": "stdout",
     "output_type": "stream",
     "text": [
      "Tweet: Every article is unfair to tr…\n",
      "\n",
      "Tweet: @realDonaldTrump promises plenty of time—remain strong!\n",
      "\n",
      "Tweet: He will be a nightmare for @Israel if Obama had 8 years STOP!\n",
      "\n",
      "Tweet: We must build a Great Republican from Pennsylvania who was at @FoxNews worked hard to disguise their massive Muslim problem.\n",
      "\n",
      "Tweet: To every member of @TeamUSA I…\n",
      "\n",
      "Tweet: Read his hate filled and totally overrated some losers and haters are going way DOWN and America is better off than they should be.\n",
      "\n",
      "Tweet: Shows me hitting shot but I hope he wins tonight.\n",
      "\n",
      "Tweet: #MAGA… https://t.co/aRdlFkVjAx\n",
      "\n",
      "Tweet: With Hillary costs will triple!\n",
      "\n",
      "Tweet: You should learn from others but make your family during the likely very boring book on Roger Ailes ‘You Are The Message’@FoxNews\n",
      "\n"
     ]
    }
   ],
   "source": [
    "for tweet in trump_tweet:\n",
    "    print(\"Tweet: \" + tweet + \"\\n\")"
   ]
  },
  {
   "cell_type": "code",
   "execution_count": 18,
   "metadata": {},
   "outputs": [],
   "source": [
    "for tweet in trump_tweet:\n",
    "    for real_tweet in real_tweets:\n",
    "        if tweet == real_tweet:\n",
    "            print(tweet)"
   ]
  },
  {
   "cell_type": "code",
   "execution_count": null,
   "metadata": {},
   "outputs": [],
   "source": []
  }
 ],
 "metadata": {
  "kernelspec": {
   "display_name": "Python 3",
   "language": "python",
   "name": "python3"
  },
  "language_info": {
   "codemirror_mode": {
    "name": "ipython",
    "version": 3
   },
   "file_extension": ".py",
   "mimetype": "text/x-python",
   "name": "python",
   "nbconvert_exporter": "python",
   "pygments_lexer": "ipython3",
   "version": "3.6.6"
  }
 },
 "nbformat": 4,
 "nbformat_minor": 2
}
